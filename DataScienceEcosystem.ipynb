{
 "cells": [
  {
   "cell_type": "code",
   "execution_count": null,
   "id": "819bd3d1-3715-42bc-9cff-b64d6e0a737a",
   "metadata": {},
   "outputs": [],
   "source": [
    "Data Science Tools and Ecosystem"
   ]
  },
  {
   "cell_type": "code",
   "execution_count": null,
   "id": "2cc2bd98-799c-475b-b06b-b4567136bcf6",
   "metadata": {},
   "outputs": [],
   "source": []
  },
  {
   "cell_type": "code",
   "execution_count": null,
   "id": "0f07ef0c-46c8-4163-8ae3-db2db64ac101",
   "metadata": {},
   "outputs": [],
   "source": []
  },
  {
   "cell_type": "code",
   "execution_count": null,
   "id": "ab5fb708-39cb-40bc-905c-f01c606470d7",
   "metadata": {},
   "outputs": [],
   "source": [
    "            "
   ]
  },
  {
   "cell_type": "markdown",
   "id": "9dacb90b-a610-4e35-a721-7184f635bfda",
   "metadata": {},
   "source": [
    "# Data Science Tools and Ecosystem"
   ]
  },
  {
   "cell_type": "code",
   "execution_count": null,
   "id": "c753d999-a541-4945-b36c-8ff14da79a8b",
   "metadata": {},
   "outputs": [],
   "source": [
    "# Data Science Tools and Ecosystem"
   ]
  },
  {
   "cell_type": "code",
   "execution_count": null,
   "id": "2b2dd5a8-a81b-4a66-a1dc-2ffc34033478",
   "metadata": {},
   "outputs": [],
   "source": [
    "En este cuaderno, se resumen las herramientas y ecosistemas de ciencia de datos."
   ]
  },
  {
   "cell_type": "markdown",
   "id": "c3a53bcf-c50b-47d4-8cdf-f19835a8233b",
   "metadata": {},
   "source": [
    "En este cuaderno, se resumen las herramientas y ecosistemas de ciencia de datos."
   ]
  },
  {
   "cell_type": "markdown",
   "id": "ce81d749-b35a-403e-b40a-74372e79897a",
   "metadata": {},
   "source": [
    "Algunos de los lenguajes populares que utilizan los científicos de datos son:\n",
    "1. **R** - Lenguaje estadístico muy utilizado para análisis de datos y visualización.\n",
    "2. **Python** - Lenguaje versátil, muy popular en machine learning, análisis y visualización de datos.\n",
    "3. **SQL** - Lenguaje utilizado para consultar y manipular bases de datos."
   ]
  },
  {
   "cell_type": "code",
   "execution_count": null,
   "id": "7617c42f-4091-4dba-a9cf-f652597d37cc",
   "metadata": {},
   "outputs": [],
   "source": [
    "Algunos de los lenguajes populares que utilizan los científicos de datos son:\n",
    "1. **R** - Lenguaje estadístico muy utilizado para análisis de datos y visualización.\n",
    "2. **Python** - Lenguaje versátil, muy popular en machine learning, análisis y visualización de datos.\n",
    "3. **SQL** - Lenguaje utilizado para consultar y manipular bases de datos."
   ]
  },
  {
   "cell_type": "code",
   "execution_count": null,
   "id": "af9137a3-f4c0-4b6c-87a4-63614a1040c5",
   "metadata": {},
   "outputs": [],
   "source": [
    "Algunas de las bibliotecas comúnmente utilizadas por los científicos de datos incluyen:\n",
    "1. Pandas\n",
    "2. Numpy\n",
    "3. Matplotlib\n",
    "4. Ploty"
   ]
  },
  {
   "cell_type": "markdown",
   "id": "f0b8ddf2-3717-4523-b65d-f9af04f42779",
   "metadata": {},
   "source": [
    "Algunas de las bibliotecas comúnmente utilizadas por los científicos de datos incluyen:\n",
    "1. Pandas\n",
    "2. Numpy\n",
    "3. Matplotlib\n",
    "4. Ploty"
   ]
  },
  {
   "cell_type": "markdown",
   "id": "269173cd-d496-424a-9f12-c74e63bdce79",
   "metadata": {},
   "source": [
    "| Herramientas de Ciencia de Datos |\n",
    "|-----------------------------------|\n",
    "| Jupyter Notebook                 |\n",
    "| RStudio                          |\n",
    "| Visual Studio Code               |\n"
   ]
  },
  {
   "cell_type": "code",
   "execution_count": null,
   "id": "885e0144-312a-40c8-8ae6-58f72ea49c9d",
   "metadata": {},
   "outputs": [],
   "source": [
    "| Herramientas de Ciencia de Datos |\n",
    "|-----------------------------------|\n",
    "| Jupyter Notebook                 |\n",
    "| RStudio                          |\n",
    "| Visual Studio Code               |\n"
   ]
  },
  {
   "cell_type": "markdown",
   "id": "3aa08e05-c99e-43c7-8891-5fda10f5ea70",
   "metadata": {},
   "source": [
    "### A continuación, se presentan algunos ejemplos de evaluación de expresiones aritméticas en Python"
   ]
  },
  {
   "cell_type": "code",
   "execution_count": null,
   "id": "d61379e2-375f-4b23-a10e-791de569f6dc",
   "metadata": {},
   "outputs": [],
   "source": [
    "## A continuación, se presentan algunos ejemplos de evaluación de expresiones aritméticas en Python"
   ]
  },
  {
   "cell_type": "code",
   "execution_count": 11,
   "id": "c804af53-59cf-49db-837c-d6f963a53c43",
   "metadata": {},
   "outputs": [
    {
     "name": "stdout",
     "output_type": "stream",
     "text": [
      "17\n"
     ]
    }
   ],
   "source": [
    "# Esta es una expresión aritmética simple para multiplicar y luego sumar enteros\n",
    "resultado = (3*4) + 5\n",
    "print (resultado)"
   ]
  },
  {
   "cell_type": "code",
   "execution_count": 12,
   "id": "87504fd9-a751-43b4-b718-5dd55a4844b9",
   "metadata": {},
   "outputs": [
    {
     "name": "stdout",
     "output_type": "stream",
     "text": [
      "3.3333333333333335\n"
     ]
    }
   ],
   "source": [
    "# Esto convertirá 200 minutos a horas dividiendo por 60\n",
    "horas = (200/60)\n",
    "print(horas)\n"
   ]
  },
  {
   "cell_type": "markdown",
   "id": "fdc7fb42-8a8f-4250-9cb3-c6a2f5dcffbc",
   "metadata": {},
   "source": [
    "# Se resumen las herramientas y ecosistemas de ciencia de datos.\n",
    "**Objetivos:**\n",
    "- Conocer lenguajes, bibliotecas y herramientas mas usados en la ciencia de datos\n",
    "- Lenguajes populares para Ciencia de Datos son:\n",
    "1. SQL\n",
    "2. Python\n",
    "3. R\n",
    "4. Julia"
   ]
  },
  {
   "cell_type": "code",
   "execution_count": null,
   "id": "cfa60681-acea-442d-b7a7-0bb3019171ca",
   "metadata": {},
   "outputs": [],
   "source": [
    "# Se resumen las herramientas y ecosistemas de ciencia de datos.\n",
    "**Objetivos:**\n",
    "- Conocer lenguajes, bibliotecas y herramientas mas usados en la ciencia de datos\n",
    "- Lenguajes populares para Ciencia de Datos son:\n",
    "1. SQL\n",
    "2. Python\n",
    "3. R\n",
    "4. Julia"
   ]
  },
  {
   "cell_type": "markdown",
   "id": "35d6d1f6-6b74-40f5-a6f6-4f712b7d0443",
   "metadata": {},
   "source": [
    "## Autor\n",
    "Luis Oswaldo Bautista Pulido"
   ]
  },
  {
   "cell_type": "code",
   "execution_count": null,
   "id": "b1228b53-a2e7-4c42-8822-3735d5952800",
   "metadata": {},
   "outputs": [],
   "source": [
    "## Autor\n",
    "Luis Oswaldo Bautista Pulido"
   ]
  }
 ],
 "metadata": {
  "kernelspec": {
   "display_name": "Python 3 (ipykernel)",
   "language": "python",
   "name": "python3"
  },
  "language_info": {
   "codemirror_mode": {
    "name": "ipython",
    "version": 3
   },
   "file_extension": ".py",
   "mimetype": "text/x-python",
   "name": "python",
   "nbconvert_exporter": "python",
   "pygments_lexer": "ipython3",
   "version": "3.12.7"
  }
 },
 "nbformat": 4,
 "nbformat_minor": 5
}
